{
 "cells": [
  {
   "cell_type": "markdown",
   "metadata": {},
   "source": [
    "# Lecture 0: Paths, betweenness and centrality metrics "
   ]
  },
  {
   "cell_type": "code",
   "execution_count": 1,
   "metadata": {
    "ExecuteTime": {
     "end_time": "2019-12-12T18:22:39.171518Z",
     "start_time": "2019-12-12T18:22:39.085707Z"
    }
   },
   "outputs": [],
   "source": [
    "import numpy as np"
   ]
  },
  {
   "cell_type": "markdown",
   "metadata": {},
   "source": [
    "## The centrality of the Medici's Family\n",
    "![cacca](../Images/ff_network.png)\n",
    "One of the main results regarding the Florentine Families network is the fact that the Medici family were extremely central. Let's load again our edge list and make some calculation..."
   ]
  },
  {
   "cell_type": "markdown",
   "metadata": {},
   "source": [
    " ### Distances"
   ]
  },
  {
   "cell_type": "markdown",
   "metadata": {},
   "source": [
    "#### Load data"
   ]
  },
  {
   "cell_type": "code",
   "execution_count": 2,
   "metadata": {
    "ExecuteTime": {
     "end_time": "2019-12-12T18:22:39.268862Z",
     "start_time": "2019-12-12T18:22:39.172707Z"
    }
   },
   "outputs": [],
   "source": [
    "ff_am=np.genfromtxt('../Data/florentine_families.dat', skip_header=41, dtype='i8')[:16]"
   ]
  },
  {
   "cell_type": "code",
   "execution_count": 3,
   "metadata": {
    "ExecuteTime": {
     "end_time": "2019-12-12T18:22:39.401626Z",
     "start_time": "2019-12-12T18:22:39.270220Z"
    }
   },
   "outputs": [],
   "source": [
    "ff_fam=np.genfromtxt('../Data/florentine_families.dat', skip_header=4, skip_footer=53, dtype='U50')"
   ]
  },
  {
   "cell_type": "code",
   "execution_count": 4,
   "metadata": {
    "ExecuteTime": {
     "end_time": "2019-12-12T18:22:39.526903Z",
     "start_time": "2019-12-12T18:22:39.402919Z"
    }
   },
   "outputs": [],
   "source": [
    "aux=ff_am[ff_fam!='PUCCI'].T\n",
    "ff_am=aux[ff_fam!='PUCCI']"
   ]
  },
  {
   "cell_type": "code",
   "execution_count": 5,
   "metadata": {
    "ExecuteTime": {
     "end_time": "2019-12-12T18:22:39.649525Z",
     "start_time": "2019-12-12T18:22:39.528087Z"
    }
   },
   "outputs": [
    {
     "data": {
      "text/plain": [
       "(15, 15)"
      ]
     },
     "execution_count": 5,
     "metadata": {},
     "output_type": "execute_result"
    }
   ],
   "source": [
    "ff_am.shape"
   ]
  },
  {
   "cell_type": "code",
   "execution_count": 6,
   "metadata": {
    "ExecuteTime": {
     "end_time": "2019-12-12T18:22:39.770578Z",
     "start_time": "2019-12-12T18:22:39.650574Z"
    }
   },
   "outputs": [
    {
     "data": {
      "text/plain": [
       "array([1, 3, 2, 3, 3, 1, 4, 1, 6, 1, 3, 3, 2, 4, 3])"
      ]
     },
     "execution_count": 6,
     "metadata": {},
     "output_type": "execute_result"
    }
   ],
   "source": [
    "np.sum(ff_am, axis=0)"
   ]
  },
  {
   "cell_type": "code",
   "execution_count": 7,
   "metadata": {
    "ExecuteTime": {
     "end_time": "2019-12-12T18:22:39.896105Z",
     "start_time": "2019-12-12T18:22:39.771688Z"
    }
   },
   "outputs": [
    {
     "data": {
      "text/plain": [
       "True"
      ]
     },
     "execution_count": 7,
     "metadata": {},
     "output_type": "execute_result"
    }
   ],
   "source": [
    "np.all(ff_am.T==ff_am)"
   ]
  },
  {
   "cell_type": "code",
   "execution_count": 8,
   "metadata": {
    "ExecuteTime": {
     "end_time": "2019-12-12T18:22:40.029084Z",
     "start_time": "2019-12-12T18:22:39.898001Z"
    }
   },
   "outputs": [],
   "source": [
    "ff_fam=ff_fam[ff_fam!='PUCCI']"
   ]
  },
  {
   "cell_type": "code",
   "execution_count": 9,
   "metadata": {
    "ExecuteTime": {
     "end_time": "2019-12-12T18:22:40.163495Z",
     "start_time": "2019-12-12T18:22:40.030600Z"
    }
   },
   "outputs": [
    {
     "data": {
      "text/plain": [
       "15"
      ]
     },
     "execution_count": 9,
     "metadata": {},
     "output_type": "execute_result"
    }
   ],
   "source": [
    "l_ff=len(ff_fam)\n",
    "l_ff"
   ]
  },
  {
   "cell_type": "markdown",
   "metadata": {},
   "source": [
    "#### Convert it to adjacency list"
   ]
  },
  {
   "cell_type": "code",
   "execution_count": 10,
   "metadata": {
    "ExecuteTime": {
     "end_time": "2019-12-12T18:22:40.281120Z",
     "start_time": "2019-12-12T18:22:40.164616Z"
    }
   },
   "outputs": [
    {
     "data": {
      "text/plain": [
       "array([8])"
      ]
     },
     "execution_count": 10,
     "metadata": {},
     "output_type": "execute_result"
    }
   ],
   "source": [
    "np.where(ff_am[0]==1)[0]"
   ]
  },
  {
   "cell_type": "code",
   "execution_count": 11,
   "metadata": {
    "ExecuteTime": {
     "end_time": "2019-12-12T18:22:40.397376Z",
     "start_time": "2019-12-12T18:22:40.282311Z"
    }
   },
   "outputs": [],
   "source": [
    "ff_ald=[]\n",
    "for i_ffam, f in enumerate(ff_am):\n",
    "    ff_ald.append(np.where(f==1)[0])"
   ]
  },
  {
   "cell_type": "code",
   "execution_count": 12,
   "metadata": {
    "ExecuteTime": {
     "end_time": "2019-12-12T18:22:40.532961Z",
     "start_time": "2019-12-12T18:22:40.398522Z"
    }
   },
   "outputs": [
    {
     "data": {
      "text/plain": [
       "[array([8]),\n",
       " array([5, 6, 8]),\n",
       " array([4, 8]),\n",
       " array([ 6, 10, 13]),\n",
       " array([ 2, 10, 13]),\n",
       " array([1]),\n",
       " array([ 1,  3,  7, 14]),\n",
       " array([6]),\n",
       " array([ 0,  1,  2, 11, 12, 14]),\n",
       " array([12]),\n",
       " array([ 3,  4, 13]),\n",
       " array([ 8, 13, 14]),\n",
       " array([8, 9]),\n",
       " array([ 3,  4, 10, 11]),\n",
       " array([ 6,  8, 11])]"
      ]
     },
     "execution_count": 12,
     "metadata": {},
     "output_type": "execute_result"
    }
   ],
   "source": [
    "ff_ald"
   ]
  },
  {
   "cell_type": "markdown",
   "metadata": {},
   "source": [
    "### Breadth-first algorithm for distances"
   ]
  },
  {
   "cell_type": "code",
   "execution_count": 13,
   "metadata": {
    "ExecuteTime": {
     "end_time": "2019-12-12T18:22:40.665222Z",
     "start_time": "2019-12-12T18:22:40.533961Z"
    }
   },
   "outputs": [],
   "source": [
    "source=np.random.randint(l_ff)"
   ]
  },
  {
   "cell_type": "code",
   "execution_count": 14,
   "metadata": {
    "ExecuteTime": {
     "end_time": "2019-12-12T18:22:40.800197Z",
     "start_time": "2019-12-12T18:22:40.666420Z"
    }
   },
   "outputs": [
    {
     "name": "stdout",
     "output_type": "stream",
     "text": [
      "PERUZZI\n"
     ]
    }
   ],
   "source": [
    "distance=-1*np.ones(l_ff, dtype='i8')\n",
    "d=0\n",
    "distance[source]=d\n",
    "print(ff_fam[source])"
   ]
  },
  {
   "cell_type": "code",
   "execution_count": 15,
   "metadata": {
    "ExecuteTime": {
     "end_time": "2019-12-12T18:22:40.942710Z",
     "start_time": "2019-12-12T18:22:40.801327Z"
    }
   },
   "outputs": [
    {
     "data": {
      "text/plain": [
       "array([ 3,  4, 13])"
      ]
     },
     "execution_count": 15,
     "metadata": {},
     "output_type": "execute_result"
    }
   ],
   "source": [
    "nn=ff_ald[source]\n",
    "nn"
   ]
  },
  {
   "cell_type": "code",
   "execution_count": 16,
   "metadata": {
    "ExecuteTime": {
     "end_time": "2019-12-12T18:22:41.075739Z",
     "start_time": "2019-12-12T18:22:40.943768Z"
    }
   },
   "outputs": [],
   "source": [
    "d+=1\n",
    "distance[nn]=d"
   ]
  },
  {
   "cell_type": "code",
   "execution_count": 17,
   "metadata": {
    "ExecuteTime": {
     "end_time": "2019-12-12T18:22:41.210651Z",
     "start_time": "2019-12-12T18:22:41.076902Z"
    }
   },
   "outputs": [
    {
     "data": {
      "text/plain": [
       "array([-1, -1, -1,  1,  1, -1, -1, -1, -1, -1,  0, -1, -1,  1, -1])"
      ]
     },
     "execution_count": 17,
     "metadata": {},
     "output_type": "execute_result"
    }
   ],
   "source": [
    "distance"
   ]
  },
  {
   "cell_type": "code",
   "execution_count": 18,
   "metadata": {
    "ExecuteTime": {
     "end_time": "2019-12-12T18:22:41.360501Z",
     "start_time": "2019-12-12T18:22:41.211809Z"
    }
   },
   "outputs": [],
   "source": [
    "d+=1\n",
    "for i_n, n in enumerate(nn):\n",
    "    aux=ff_ald[n]\n",
    "    aux=aux[distance[aux]==-1]\n",
    "    distance[aux]=d\n",
    "    if i_n==0:\n",
    "        new_nn=aux\n",
    "    else:\n",
    "        new_nn=np.concatenate((new_nn, aux))"
   ]
  },
  {
   "cell_type": "code",
   "execution_count": 19,
   "metadata": {
    "ExecuteTime": {
     "end_time": "2019-12-12T18:22:41.486745Z",
     "start_time": "2019-12-12T18:22:41.361746Z"
    }
   },
   "outputs": [
    {
     "data": {
      "text/plain": [
       "array([-1, -1,  2,  1,  1, -1,  2, -1, -1, -1,  0,  2, -1,  1, -1])"
      ]
     },
     "execution_count": 19,
     "metadata": {},
     "output_type": "execute_result"
    }
   ],
   "source": [
    "distance"
   ]
  },
  {
   "cell_type": "code",
   "execution_count": 20,
   "metadata": {
    "ExecuteTime": {
     "end_time": "2019-12-12T18:22:41.604183Z",
     "start_time": "2019-12-12T18:22:41.487832Z"
    }
   },
   "outputs": [
    {
     "data": {
      "text/plain": [
       "array([['ACCIAIUOL', '-1'],\n",
       "       ['ALBIZZI', '-1'],\n",
       "       ['BARBADORI', '2'],\n",
       "       ['BISCHERI', '1'],\n",
       "       ['CASTELLAN', '1'],\n",
       "       ['GINORI', '-1'],\n",
       "       ['GUADAGNI', '2'],\n",
       "       ['LAMBERTES', '-1'],\n",
       "       ['MEDICI', '-1'],\n",
       "       ['PAZZI', '-1'],\n",
       "       ['PERUZZI', '0'],\n",
       "       ['RIDOLFI', '2'],\n",
       "       ['SALVIATI', '-1'],\n",
       "       ['STROZZI', '1'],\n",
       "       ['TORNABUON', '-1']], dtype='<U50')"
      ]
     },
     "execution_count": 20,
     "metadata": {},
     "output_type": "execute_result"
    }
   ],
   "source": [
    "np.vstack((ff_fam, distance)).T"
   ]
  },
  {
   "cell_type": "code",
   "execution_count": 21,
   "metadata": {
    "ExecuteTime": {
     "end_time": "2019-12-12T18:22:41.720601Z",
     "start_time": "2019-12-12T18:22:41.605303Z"
    }
   },
   "outputs": [],
   "source": [
    "nn=new_nn\n",
    "d+=1\n",
    "for i_n, n in enumerate(nn):\n",
    "    aux=ff_ald[n]\n",
    "    aux=aux[distance[aux]==-1]\n",
    "    distance[aux]=d\n",
    "    if i_n==0:\n",
    "        new_nn=aux\n",
    "    else:\n",
    "        new_nn=np.concatenate((new_nn, aux))"
   ]
  },
  {
   "cell_type": "code",
   "execution_count": 22,
   "metadata": {
    "ExecuteTime": {
     "end_time": "2019-12-12T18:22:41.855417Z",
     "start_time": "2019-12-12T18:22:41.721749Z"
    }
   },
   "outputs": [
    {
     "data": {
      "text/plain": [
       "array([['ACCIAIUOL', '-1'],\n",
       "       ['ALBIZZI', '3'],\n",
       "       ['BARBADORI', '2'],\n",
       "       ['BISCHERI', '1'],\n",
       "       ['CASTELLAN', '1'],\n",
       "       ['GINORI', '-1'],\n",
       "       ['GUADAGNI', '2'],\n",
       "       ['LAMBERTES', '3'],\n",
       "       ['MEDICI', '3'],\n",
       "       ['PAZZI', '-1'],\n",
       "       ['PERUZZI', '0'],\n",
       "       ['RIDOLFI', '2'],\n",
       "       ['SALVIATI', '-1'],\n",
       "       ['STROZZI', '1'],\n",
       "       ['TORNABUON', '3']], dtype='<U50')"
      ]
     },
     "execution_count": 22,
     "metadata": {},
     "output_type": "execute_result"
    }
   ],
   "source": [
    "np.vstack((ff_fam, distance)).T"
   ]
  },
  {
   "cell_type": "markdown",
   "metadata": {},
   "source": [
    "### Exercise: build your own function calculating the distances from a given node (input of the function)"
   ]
  },
  {
   "cell_type": "code",
   "execution_count": 23,
   "metadata": {
    "ExecuteTime": {
     "end_time": "2019-12-12T18:22:41.971879Z",
     "start_time": "2019-12-12T18:22:41.858398Z"
    }
   },
   "outputs": [],
   "source": [
    "def bf_dist(source, ald):\n",
    "    _ald=ald\n",
    "    ll=len(_ald)\n",
    "    distance=-1*np.ones(ll, dtype='i8')\n",
    "    d=0\n",
    "    distance[source]=d\n",
    "    _source=np.array([source])\n",
    "    while len(np.where(distance==-1)[0])>0:\n",
    "        d+=1\n",
    "        for i_n, n in enumerate(_source):\n",
    "            aux=_ald[n]\n",
    "            aux=aux[distance[aux]==-1]\n",
    "            distance[aux]=d\n",
    "            if i_n==0:\n",
    "                new_source=aux\n",
    "            else:\n",
    "                new_source=np.concatenate((new_source, aux))\n",
    "        _source=new_source\n",
    "    return distance"
   ]
  },
  {
   "cell_type": "code",
   "execution_count": 24,
   "metadata": {
    "ExecuteTime": {
     "end_time": "2019-12-12T18:22:42.114923Z",
     "start_time": "2019-12-12T18:22:41.973639Z"
    }
   },
   "outputs": [
    {
     "data": {
      "text/plain": [
       "False"
      ]
     },
     "execution_count": 24,
     "metadata": {},
     "output_type": "execute_result"
    }
   ],
   "source": [
    "np.all(bf_dist(source, ff_ald)==distance)"
   ]
  },
  {
   "cell_type": "code",
   "execution_count": 25,
   "metadata": {
    "ExecuteTime": {
     "end_time": "2019-12-12T18:22:47.573533Z",
     "start_time": "2019-12-12T18:22:42.116069Z"
    }
   },
   "outputs": [
    {
     "name": "stdout",
     "output_type": "stream",
     "text": [
      "65.7 µs ± 496 ns per loop (mean ± std. dev. of 7 runs, 10000 loops each)\n"
     ]
    }
   ],
   "source": [
    "%timeit bf_dist(source, ff_ald)"
   ]
  },
  {
   "cell_type": "code",
   "execution_count": 26,
   "metadata": {
    "ExecuteTime": {
     "end_time": "2019-12-12T18:22:47.579158Z",
     "start_time": "2019-12-12T18:22:47.574796Z"
    }
   },
   "outputs": [],
   "source": [
    "def MEJ_bf_dist(source, ald):\n",
    "    _ald=ald\n",
    "    ll=len(_ald)\n",
    "    _distance=-1*np.ones(ll, dtype='i8')\n",
    "    d=0\n",
    "    _distance[source]=d\n",
    "    queue=np.zeros(ll, dtype='i8')\n",
    "    read_c=0\n",
    "    write_c=1\n",
    "    queue[read_c]=source\n",
    "    l_nn=ll\n",
    "    while read_c!=write_c:\n",
    "        _source=queue[read_c]\n",
    "        _d=_distance[_source]\n",
    "        _nn=_ald[_source]\n",
    "        _nn=_nn[_distance[_nn]==-1]\n",
    "        _distance[_nn]=_d+1\n",
    "        l_nn=len(_nn)\n",
    "        queue[write_c:write_c+l_nn]=_nn\n",
    "        write_c=write_c+l_nn\n",
    "        read_c+=1\n",
    "    return _distance"
   ]
  },
  {
   "cell_type": "code",
   "execution_count": 27,
   "metadata": {
    "ExecuteTime": {
     "end_time": "2019-12-12T18:22:47.717689Z",
     "start_time": "2019-12-12T18:22:47.580278Z"
    }
   },
   "outputs": [
    {
     "data": {
      "text/plain": [
       "False"
      ]
     },
     "execution_count": 27,
     "metadata": {},
     "output_type": "execute_result"
    }
   ],
   "source": [
    "np.all(MEJ_bf_dist(source, ff_ald)==distance)"
   ]
  },
  {
   "cell_type": "code",
   "execution_count": 28,
   "metadata": {
    "ExecuteTime": {
     "end_time": "2019-12-12T18:22:51.908821Z",
     "start_time": "2019-12-12T18:22:47.718840Z"
    }
   },
   "outputs": [
    {
     "name": "stdout",
     "output_type": "stream",
     "text": [
      "49.2 µs ± 362 ns per loop (mean ± std. dev. of 7 runs, 10000 loops each)\n"
     ]
    }
   ],
   "source": [
    "%timeit MEJ_bf_dist(source, ff_ald)"
   ]
  },
  {
   "cell_type": "markdown",
   "metadata": {},
   "source": [
    "### Actually, we can complicate the routine in order to calculate the number of shortest paths connecting the source with any other node in the network"
   ]
  },
  {
   "cell_type": "code",
   "execution_count": 29,
   "metadata": {
    "ExecuteTime": {
     "end_time": "2019-12-12T18:22:51.915423Z",
     "start_time": "2019-12-12T18:22:51.909969Z"
    }
   },
   "outputs": [],
   "source": [
    "def MEJ_bf_dist_w(source, ald):\n",
    "    _ald=ald\n",
    "    ll=len(_ald)\n",
    "    _distance=-1*np.ones(ll, dtype='i8')\n",
    "    _weights=np.zeros(ll, dtype='i8')\n",
    "    d=0\n",
    "    _distance[source]=d\n",
    "    _weights[source]=1\n",
    "    queue=np.zeros(ll, dtype='i8')\n",
    "    read_c=0\n",
    "    write_c=1\n",
    "    queue[read_c]=source\n",
    "    l_nn=ll\n",
    "    while read_c!=write_c:\n",
    "        _source=queue[read_c]\n",
    "        _d=_distance[_source]\n",
    "        _w=_weights[_source]\n",
    "        \n",
    "        _nn=_ald[_source]\n",
    "        new_nn=_nn[_distance[_nn]==-1]\n",
    "        old_nn=_nn[_distance[_nn]==_d+1]\n",
    "        \n",
    "        _distance[new_nn]=_d+1\n",
    "        _weights[new_nn]=_w\n",
    "        \n",
    "        _weights[old_nn]+=_w\n",
    "        \n",
    "        l_nn=len(new_nn)\n",
    "        queue[write_c:write_c+l_nn]=new_nn\n",
    "        write_c=write_c+l_nn\n",
    "        read_c+=1\n",
    "    return _distance, _weights"
   ]
  },
  {
   "cell_type": "code",
   "execution_count": 30,
   "metadata": {
    "ExecuteTime": {
     "end_time": "2019-12-12T18:22:52.053024Z",
     "start_time": "2019-12-12T18:22:51.916607Z"
    }
   },
   "outputs": [],
   "source": [
    "dist, wei=MEJ_bf_dist_w(source, ff_ald)"
   ]
  },
  {
   "cell_type": "code",
   "execution_count": 31,
   "metadata": {
    "ExecuteTime": {
     "end_time": "2019-12-12T18:23:01.599061Z",
     "start_time": "2019-12-12T18:22:52.054430Z"
    }
   },
   "outputs": [
    {
     "name": "stdout",
     "output_type": "stream",
     "text": [
      "116 µs ± 1.97 µs per loop (mean ± std. dev. of 7 runs, 10000 loops each)\n"
     ]
    }
   ],
   "source": [
    "%timeit MEJ_bf_dist_w(source, ff_ald)"
   ]
  },
  {
   "cell_type": "code",
   "execution_count": 32,
   "metadata": {
    "ExecuteTime": {
     "end_time": "2019-12-12T18:23:01.605577Z",
     "start_time": "2019-12-12T18:23:01.600312Z"
    }
   },
   "outputs": [],
   "source": [
    "def MEJ_bf_dist_w_2(source, ald):\n",
    "    _ald=ald\n",
    "    ll=len(_ald)\n",
    "    _distance=-1*np.ones(ll, dtype='i8')\n",
    "    _weights=np.zeros(ll, dtype='i8')\n",
    "    d=0\n",
    "    _distance[source]=d\n",
    "    _weights[source]=1\n",
    "    queue=np.zeros(ll, dtype='i8')\n",
    "    read_c=0\n",
    "    write_c=1\n",
    "    queue[read_c]=source\n",
    "    l_nn=ll\n",
    "    while read_c!=write_c:\n",
    "        _source=queue[read_c]\n",
    "        _d=_distance[_source]\n",
    "        _w=_weights[_source]\n",
    "        \n",
    "        _nn=_ald[_source]\n",
    "        \n",
    "        for n in _nn:\n",
    "            if _distance[n]==-1:\n",
    "                _distance[n]=_d+1\n",
    "                _weights[n]=_w\n",
    "                queue[write_c]=n\n",
    "                write_c+=1\n",
    "            elif _distance[n]==_d+1: \n",
    "                _weights[n]+=_w\n",
    "        read_c+=1\n",
    "    return _distance, _weights"
   ]
  },
  {
   "cell_type": "code",
   "execution_count": 35,
   "metadata": {
    "ExecuteTime": {
     "end_time": "2019-12-12T18:23:02.000644Z",
     "start_time": "2019-12-12T18:23:01.892873Z"
    }
   },
   "outputs": [
    {
     "data": {
      "text/plain": [
       "True"
      ]
     },
     "execution_count": 35,
     "metadata": {},
     "output_type": "execute_result"
    }
   ],
   "source": [
    "np.all(MEJ_bf_dist_w(source, ff_ald)[0]==MEJ_bf_dist_w_2(source, ff_ald)[0])"
   ]
  },
  {
   "cell_type": "code",
   "execution_count": 36,
   "metadata": {
    "ExecuteTime": {
     "end_time": "2019-12-12T18:23:02.117694Z",
     "start_time": "2019-12-12T18:23:02.001767Z"
    }
   },
   "outputs": [
    {
     "data": {
      "text/plain": [
       "True"
      ]
     },
     "execution_count": 36,
     "metadata": {},
     "output_type": "execute_result"
    }
   ],
   "source": [
    "np.all(MEJ_bf_dist_w(source, ff_ald)[1]==MEJ_bf_dist_w_2(source, ff_ald)[1])"
   ]
  },
  {
   "cell_type": "code",
   "execution_count": 37,
   "metadata": {
    "ExecuteTime": {
     "end_time": "2019-12-12T18:23:06.754610Z",
     "start_time": "2019-12-12T18:23:02.118893Z"
    }
   },
   "outputs": [
    {
     "name": "stdout",
     "output_type": "stream",
     "text": [
      "55.7 µs ± 404 ns per loop (mean ± std. dev. of 7 runs, 10000 loops each)\n"
     ]
    }
   ],
   "source": [
    "%timeit MEJ_bf_dist_w_2(source, ff_ald)"
   ]
  },
  {
   "cell_type": "code",
   "execution_count": 38,
   "metadata": {
    "ExecuteTime": {
     "end_time": "2019-12-12T18:23:16.025725Z",
     "start_time": "2019-12-12T18:23:06.756012Z"
    }
   },
   "outputs": [
    {
     "name": "stdout",
     "output_type": "stream",
     "text": [
      "113 µs ± 1.14 µs per loop (mean ± std. dev. of 7 runs, 10000 loops each)\n"
     ]
    }
   ],
   "source": [
    "%timeit MEJ_bf_dist_w(source, ff_ald)"
   ]
  },
  {
   "cell_type": "code",
   "execution_count": 39,
   "metadata": {
    "ExecuteTime": {
     "end_time": "2019-12-12T18:23:16.030498Z",
     "start_time": "2019-12-12T18:23:16.027016Z"
    }
   },
   "outputs": [
    {
     "data": {
      "text/plain": [
       "array([['ACCIAIUOL', '4'],\n",
       "       ['ALBIZZI', '3'],\n",
       "       ['BARBADORI', '2'],\n",
       "       ['BISCHERI', '1'],\n",
       "       ['CASTELLAN', '1'],\n",
       "       ['GINORI', '4'],\n",
       "       ['GUADAGNI', '2'],\n",
       "       ['LAMBERTES', '3'],\n",
       "       ['MEDICI', '3'],\n",
       "       ['PAZZI', '5'],\n",
       "       ['PERUZZI', '0'],\n",
       "       ['RIDOLFI', '2'],\n",
       "       ['SALVIATI', '4'],\n",
       "       ['STROZZI', '1'],\n",
       "       ['TORNABUON', '3']], dtype='<U50')"
      ]
     },
     "execution_count": 39,
     "metadata": {},
     "output_type": "execute_result"
    }
   ],
   "source": [
    "np.vstack((ff_fam, dist)).T"
   ]
  },
  {
   "cell_type": "code",
   "execution_count": 40,
   "metadata": {
    "ExecuteTime": {
     "end_time": "2019-12-12T18:23:16.147460Z",
     "start_time": "2019-12-12T18:23:16.032038Z"
    }
   },
   "outputs": [
    {
     "data": {
      "text/plain": [
       "array([['ACCIAIUOL', '2'],\n",
       "       ['ALBIZZI', '1'],\n",
       "       ['BARBADORI', '1'],\n",
       "       ['BISCHERI', '1'],\n",
       "       ['CASTELLAN', '1'],\n",
       "       ['GINORI', '1'],\n",
       "       ['GUADAGNI', '1'],\n",
       "       ['LAMBERTES', '1'],\n",
       "       ['MEDICI', '2'],\n",
       "       ['PAZZI', '2'],\n",
       "       ['PERUZZI', '1'],\n",
       "       ['RIDOLFI', '1'],\n",
       "       ['SALVIATI', '2'],\n",
       "       ['STROZZI', '1'],\n",
       "       ['TORNABUON', '2']], dtype='<U50')"
      ]
     },
     "execution_count": 40,
     "metadata": {},
     "output_type": "execute_result"
    }
   ],
   "source": [
    "np.vstack((ff_fam, wei)).T"
   ]
  },
  {
   "cell_type": "markdown",
   "metadata": {},
   "source": [
    "![cacca](../Images/ff_network.png)"
   ]
  },
  {
   "cell_type": "markdown",
   "metadata": {},
   "source": [
    "## Something more: the edge betweenness\n",
    "Actually, we can make use of the previous calculation in order to get the edge betweenness. If two nodes $i$ and $j$ are adjacent, but have different distances from the source $s$ (i.e. $d(s, i)>d(s, j)$), the edge connecting the two nodes gets a contribution to its betweenness with a term $w_j/w_i$, since we pass through the edge $(i,j)$ in connecting $s$ and $i$ via a shortest path with a ratio $w_j/w_i$. Actually we can iterate the previous contributions."
   ]
  },
  {
   "cell_type": "markdown",
   "metadata": {},
   "source": [
    "#### find_leaves"
   ]
  },
  {
   "cell_type": "code",
   "execution_count": 43,
   "metadata": {
    "ExecuteTime": {
     "end_time": "2019-12-12T18:23:16.533834Z",
     "start_time": "2019-12-12T18:23:16.418745Z"
    }
   },
   "outputs": [],
   "source": [
    "def find_leaves(_ald, _dist):    \n",
    "    leaves=[]\n",
    "    for i in range(len(_ald)):\n",
    "        dd=_dist[i]\n",
    "        nn=_ald[i]\n",
    "        dd_nn=_dist[nn]\n",
    "        if np.all(dd>=dd_nn):\n",
    "            leaves.append(i)\n",
    "    return leaves"
   ]
  },
  {
   "cell_type": "code",
   "execution_count": 45,
   "metadata": {
    "ExecuteTime": {
     "end_time": "2019-12-12T18:23:22.029200Z",
     "start_time": "2019-12-12T18:23:16.670236Z"
    }
   },
   "outputs": [
    {
     "name": "stdout",
     "output_type": "stream",
     "text": [
      "64.6 µs ± 57.6 ns per loop (mean ± std. dev. of 7 runs, 10000 loops each)\n"
     ]
    }
   ],
   "source": [
    "%timeit find_leaves(ff_ald, dist)"
   ]
  },
  {
   "cell_type": "code",
   "execution_count": 46,
   "metadata": {
    "ExecuteTime": {
     "end_time": "2019-12-12T18:23:22.033835Z",
     "start_time": "2019-12-12T18:23:22.030470Z"
    }
   },
   "outputs": [],
   "source": [
    "def find_leaves_2(_ald, _dist):    \n",
    "    leaves=[]\n",
    "    for i in range(len(_ald)):\n",
    "        dd=_dist[i]\n",
    "        nn=_ald[i]\n",
    "        counter=0\n",
    "        for n in nn:\n",
    "            if _dist[n]<=dd:\n",
    "                counter+=1\n",
    "        if counter==len(nn):\n",
    "            leaves.append(i)\n",
    "    return leaves"
   ]
  },
  {
   "cell_type": "code",
   "execution_count": 173,
   "metadata": {
    "ExecuteTime": {
     "end_time": "2019-12-13T08:55:08.352519Z",
     "start_time": "2019-12-13T08:55:08.349328Z"
    }
   },
   "outputs": [
    {
     "data": {
      "text/plain": [
       "True"
      ]
     },
     "execution_count": 173,
     "metadata": {},
     "output_type": "execute_result"
    }
   ],
   "source": [
    "find_leaves(ff_ald, dist)==find_leaves_2(ff_ald, dist)"
   ]
  },
  {
   "cell_type": "code",
   "execution_count": 48,
   "metadata": {
    "ExecuteTime": {
     "end_time": "2019-12-12T18:23:24.119665Z",
     "start_time": "2019-12-12T18:23:22.155883Z"
    }
   },
   "outputs": [
    {
     "name": "stdout",
     "output_type": "stream",
     "text": [
      "22.6 µs ± 106 ns per loop (mean ± std. dev. of 7 runs, 10000 loops each)\n"
     ]
    }
   ],
   "source": [
    "%timeit find_leaves_2(ff_ald, dist)"
   ]
  },
  {
   "cell_type": "markdown",
   "metadata": {},
   "source": [
    "#### new_to_me\n",
    "The single step of assigning the correct contribution, given the degree sequence"
   ]
  },
  {
   "cell_type": "code",
   "execution_count": 103,
   "metadata": {
    "ExecuteTime": {
     "end_time": "2019-12-13T07:54:05.596749Z",
     "start_time": "2019-12-13T07:54:05.590879Z"
    }
   },
   "outputs": [],
   "source": [
    "def new_to_me(new_leaves, old_leaves, dict_eb):\n",
    "    for i_l, l in enumerate(new_leaves):\n",
    "        d_l=dist[l]\n",
    "    \n",
    "        l_nn=ff_ald[l]\n",
    "        smaller_l_nn=l_nn[dist[l_nn]<d_l]\n",
    "        # for the equal distance ones there is no path!\n",
    "    \n",
    "        if i_l==0:\n",
    "            new_new_leaves=smaller_l_nn\n",
    "        else:\n",
    "            new_new_leaves=np.concatenate((new_new_leaves, smaller_l_nn))\n",
    "        \n",
    "        greater_l_nn=l_nn[np.isin(l_nn, old_leaves)]\n",
    "        greater_l_nn=greater_l_nn[distance[greater_l_nn]>d_l]\n",
    "        next_ones_contribution=0\n",
    "        for g in greater_l_nn:\n",
    "            if g<l:\n",
    "                next_ones_contribution+=dict_eb[(ff_fam[g], ff_fam[l])]\n",
    "            else:\n",
    "                next_ones_contribution+=dict_eb[(ff_fam[l], ff_fam[g])]\n",
    "    \n",
    "        for nn in smaller_l_nn:\n",
    "            \n",
    "            if nn<l:\n",
    "                if (ff_fam[nn], ff_fam[l]) not in list(dict_eb.keys()):\n",
    "                    dict_eb[(ff_fam[nn], ff_fam[l])]=wei[nn]/wei[l]*(1+next_ones_contribution)\n",
    "                else:\n",
    "                    dict_eb[(ff_fam[nn], ff_fam[l])]+=wei[nn]/wei[l]*(1+next_ones_contribution)\n",
    "            else:\n",
    "                if (ff_fam[l], ff_fam[nn]) not in list(dict_eb.keys()):\n",
    "                    dict_eb[(ff_fam[l], ff_fam[nn])]=wei[nn]/wei[l]*(1+next_ones_contribution)\n",
    "                else:\n",
    "                    dict_eb[(ff_fam[l], ff_fam[nn])]+=wei[nn]/wei[l]*(1+next_ones_contribution)\n",
    "    return dict_eb, np.unique(new_new_leaves)"
   ]
  },
  {
   "cell_type": "code",
   "execution_count": 55,
   "metadata": {
    "ExecuteTime": {
     "end_time": "2019-12-12T18:23:31.416536Z",
     "start_time": "2019-12-12T18:23:31.414201Z"
    }
   },
   "outputs": [],
   "source": [
    "cacca=new_to_me(leaves, np.array([]), {})"
   ]
  },
  {
   "cell_type": "code",
   "execution_count": 56,
   "metadata": {
    "ExecuteTime": {
     "end_time": "2019-12-12T18:23:31.893763Z",
     "start_time": "2019-12-12T18:23:31.890417Z"
    }
   },
   "outputs": [
    {
     "data": {
      "text/plain": [
       "{('ACCIAIUOL', 'MEDICI'): 1.0,\n",
       " ('ALBIZZI', 'GINORI'): 1.0,\n",
       " ('GUADAGNI', 'LAMBERTES'): 1.0,\n",
       " ('PAZZI', 'SALVIATI'): 1.0,\n",
       " ('GUADAGNI', 'TORNABUON'): 0.5,\n",
       " ('RIDOLFI', 'TORNABUON'): 0.5}"
      ]
     },
     "execution_count": 56,
     "metadata": {},
     "output_type": "execute_result"
    }
   ],
   "source": [
    "cacca[0]"
   ]
  },
  {
   "cell_type": "code",
   "execution_count": 60,
   "metadata": {
    "ExecuteTime": {
     "end_time": "2019-12-12T18:23:33.821098Z",
     "start_time": "2019-12-12T18:23:33.818547Z"
    }
   },
   "outputs": [],
   "source": [
    "cacca_2=new_to_me(cacca[1], leaves, cacca[0])"
   ]
  },
  {
   "cell_type": "code",
   "execution_count": 145,
   "metadata": {
    "ExecuteTime": {
     "end_time": "2019-12-13T08:45:30.988076Z",
     "start_time": "2019-12-13T08:45:30.980879Z"
    }
   },
   "outputs": [],
   "source": [
    "def new_to_me_2(new_leaves, old_leaves, dict_eb, dist=dist):\n",
    "    for i_l, l in enumerate(new_leaves):\n",
    "        d_l=dist[l]\n",
    "    \n",
    "        l_nn=ff_ald[l]\n",
    "\n",
    "        smaller_l_nn=[]\n",
    "        greater_l_nn=[]\n",
    "        for n in l_nn:\n",
    "            if dist[n]<d_l:\n",
    "                smaller_l_nn.append(n)\n",
    "            elif dist[n]>d_l and n in old_leaves:\n",
    "                greater_l_nn.append(n)\n",
    "            \n",
    "        # for the equal distance ones there is no path!\n",
    "    \n",
    "        if i_l==0:\n",
    "            new_new_leaves=np.array(smaller_l_nn)\n",
    "        else:\n",
    "            new_new_leaves=np.concatenate((new_new_leaves, np.array(smaller_l_nn)))\n",
    "            \n",
    "            \n",
    "        next_ones_contribution=0\n",
    "        for g in greater_l_nn:\n",
    "            if g<l:\n",
    "                next_ones_contribution+=dict_eb[(ff_fam[g], ff_fam[l])]\n",
    "            else:\n",
    "                next_ones_contribution+=dict_eb[(ff_fam[l], ff_fam[g])]\n",
    "    \n",
    "        for nn in smaller_l_nn:\n",
    "            \n",
    "            if nn<l:\n",
    "                dict_eb[(ff_fam[nn], ff_fam[l])]=wei[nn]/wei[l]*(1+next_ones_contribution)\n",
    "            else:\n",
    "                dict_eb[(ff_fam[l], ff_fam[nn])]=wei[nn]/wei[l]*(1+next_ones_contribution)\n",
    "                \n",
    "    new_new_leaves=np.unique(new_new_leaves)\n",
    "    nnl_l=[]\n",
    "    for nnl in new_new_leaves:\n",
    "        if nnl not in old_leaves and nnl not in new_leaves:\n",
    "            nnl_l.append(nnl)\n",
    "            \n",
    "    return dict_eb, np.array(nnl_l)"
   ]
  },
  {
   "cell_type": "code",
   "execution_count": 91,
   "metadata": {
    "ExecuteTime": {
     "end_time": "2019-12-12T18:26:14.573686Z",
     "start_time": "2019-12-12T18:26:00.430201Z"
    }
   },
   "outputs": [
    {
     "name": "stdout",
     "output_type": "stream",
     "text": [
      "174 µs ± 330 ns per loop (mean ± std. dev. of 7 runs, 10000 loops each)\n"
     ]
    }
   ],
   "source": [
    "%timeit new_to_me(cacca[1], leaves, cacca[0])"
   ]
  },
  {
   "cell_type": "code",
   "execution_count": 98,
   "metadata": {
    "ExecuteTime": {
     "end_time": "2019-12-13T07:46:30.544943Z",
     "start_time": "2019-12-13T07:46:22.747193Z"
    }
   },
   "outputs": [
    {
     "name": "stdout",
     "output_type": "stream",
     "text": [
      "95.8 µs ± 85.1 ns per loop (mean ± std. dev. of 7 runs, 10000 loops each)\n"
     ]
    }
   ],
   "source": [
    "%timeit new_to_me_2(cacca[1], leaves, cacca[0])"
   ]
  },
  {
   "cell_type": "markdown",
   "metadata": {
    "ExecuteTime": {
     "end_time": "2019-12-12T16:33:33.003914Z",
     "start_time": "2019-12-12T16:33:32.697572Z"
    }
   },
   "source": [
    "![cacca](../Images/ff_network.png)"
   ]
  },
  {
   "cell_type": "markdown",
   "metadata": {},
   "source": [
    "#### all_for_the_source\n",
    "Iterating over new_to_me"
   ]
  },
  {
   "cell_type": "code",
   "execution_count": 157,
   "metadata": {
    "ExecuteTime": {
     "end_time": "2019-12-13T08:48:09.418193Z",
     "start_time": "2019-12-13T08:48:09.414476Z"
    }
   },
   "outputs": [],
   "source": [
    "def all_for_the_source(source, _ald, dict_eb):\n",
    "    _dist, _wei=MEJ_bf_dist_w_2(source, _ald)\n",
    "    leaves=find_leaves_2(_ald, _dist)\n",
    "    dict_eb, new_leaves=new_to_me_2(leaves, np.array([]), dict_eb, _dist)\n",
    "    #counter=0\n",
    "    while new_leaves.size>0:\n",
    "        #print(counter)\n",
    "        #print(new_leaves)\n",
    "        dict_eb, new_new_leaves=new_to_me_2(new_leaves, leaves, dict_eb, _dist)\n",
    "        leaves=np.unique(np.concatenate((leaves, new_leaves)))\n",
    "        new_leaves=new_new_leaves\n",
    "        #counter+=1\n",
    "    return dict_eb\n",
    "    "
   ]
  },
  {
   "cell_type": "code",
   "execution_count": 130,
   "metadata": {
    "ExecuteTime": {
     "end_time": "2019-12-13T08:25:26.680807Z",
     "start_time": "2019-12-13T08:25:26.677847Z"
    }
   },
   "outputs": [
    {
     "data": {
      "text/plain": [
       "10"
      ]
     },
     "execution_count": 130,
     "metadata": {},
     "output_type": "execute_result"
    }
   ],
   "source": [
    "source"
   ]
  },
  {
   "cell_type": "code",
   "execution_count": 131,
   "metadata": {
    "ExecuteTime": {
     "end_time": "2019-12-13T08:25:27.102182Z",
     "start_time": "2019-12-13T08:25:27.095829Z"
    }
   },
   "outputs": [
    {
     "name": "stdout",
     "output_type": "stream",
     "text": [
      "[ 1  6  8 11 12]\n",
      "[ 2  3 13]\n",
      "[ 4 10]\n"
     ]
    },
    {
     "data": {
      "text/plain": [
       "{('ACCIAIUOL', 'MEDICI'): 1.0,\n",
       " ('ALBIZZI', 'GINORI'): 1.0,\n",
       " ('GUADAGNI', 'LAMBERTES'): 1.0,\n",
       " ('PAZZI', 'SALVIATI'): 1.0,\n",
       " ('GUADAGNI', 'TORNABUON'): 0.5,\n",
       " ('RIDOLFI', 'TORNABUON'): 0.5,\n",
       " ('ALBIZZI', 'GUADAGNI'): 2.0,\n",
       " ('BISCHERI', 'GUADAGNI'): 2.5,\n",
       " ('BARBADORI', 'MEDICI'): 1.0,\n",
       " ('MEDICI', 'RIDOLFI'): 1.0,\n",
       " ('RIDOLFI', 'STROZZI'): 1.5,\n",
       " ('MEDICI', 'SALVIATI'): 2.0,\n",
       " ('BARBADORI', 'CASTELLAN'): 2.0,\n",
       " ('BISCHERI', 'PERUZZI'): 3.5,\n",
       " ('PERUZZI', 'STROZZI'): 2.5,\n",
       " ('CASTELLAN', 'PERUZZI'): 3.0}"
      ]
     },
     "execution_count": 131,
     "metadata": {},
     "output_type": "execute_result"
    }
   ],
   "source": [
    "all_for_the_source(source, ff_ald, {})"
   ]
  },
  {
   "cell_type": "markdown",
   "metadata": {},
   "source": [
    "Actually, I think that there may be some error..."
   ]
  },
  {
   "cell_type": "code",
   "execution_count": 106,
   "metadata": {
    "ExecuteTime": {
     "end_time": "2019-12-13T08:05:36.569920Z",
     "start_time": "2019-12-13T08:05:32.986338Z"
    }
   },
   "outputs": [
    {
     "name": "stdout",
     "output_type": "stream",
     "text": [
      "440 µs ± 9.35 µs per loop (mean ± std. dev. of 7 runs, 1000 loops each)\n"
     ]
    }
   ],
   "source": [
    "%timeit all_for_the_source(source, ff_ald, {})"
   ]
  },
  {
   "cell_type": "markdown",
   "metadata": {},
   "source": [
    "#### The final betweenness\n",
    "Putting all together"
   ]
  },
  {
   "cell_type": "code",
   "execution_count": 160,
   "metadata": {
    "ExecuteTime": {
     "end_time": "2019-12-13T08:48:48.556353Z",
     "start_time": "2019-12-13T08:48:48.553695Z"
    }
   },
   "outputs": [],
   "source": [
    "def fabio_betweenness(_adl):\n",
    "    dict_eb_0={}\n",
    "    l_nodes=len(_adl)\n",
    "    for i in range(l_nodes):\n",
    "        print(i)\n",
    "        dict_eb_0=all_for_the_source(i, _adl, dict_eb_0)\n",
    "    return dict_eb_0"
   ]
  },
  {
   "cell_type": "code",
   "execution_count": 161,
   "metadata": {
    "ExecuteTime": {
     "end_time": "2019-12-13T08:48:49.255673Z",
     "start_time": "2019-12-13T08:48:49.240654Z"
    }
   },
   "outputs": [
    {
     "name": "stdout",
     "output_type": "stream",
     "text": [
      "0\n",
      "1\n",
      "2\n",
      "3\n",
      "4\n",
      "5\n",
      "6\n"
     ]
    },
    {
     "ename": "IndexError",
     "evalue": "only integers, slices (`:`), ellipsis (`...`), numpy.newaxis (`None`) and integer or boolean arrays are valid indices",
     "output_type": "error",
     "traceback": [
      "\u001b[0;31m---------------------------------------------------------------------------\u001b[0m",
      "\u001b[0;31mIndexError\u001b[0m                                Traceback (most recent call last)",
      "\u001b[0;32m<ipython-input-161-5f3d2acbb156>\u001b[0m in \u001b[0;36m<module>\u001b[0;34m\u001b[0m\n\u001b[0;32m----> 1\u001b[0;31m \u001b[0mfabio_betweenness\u001b[0m\u001b[0;34m(\u001b[0m\u001b[0mff_ald\u001b[0m\u001b[0;34m)\u001b[0m\u001b[0;34m\u001b[0m\u001b[0m\n\u001b[0m",
      "\u001b[0;32m<ipython-input-160-301d2ff67b8b>\u001b[0m in \u001b[0;36mfabio_betweenness\u001b[0;34m(_adl)\u001b[0m\n\u001b[1;32m      4\u001b[0m     \u001b[0;32mfor\u001b[0m \u001b[0mi\u001b[0m \u001b[0;32min\u001b[0m \u001b[0mrange\u001b[0m\u001b[0;34m(\u001b[0m\u001b[0ml_nodes\u001b[0m\u001b[0;34m)\u001b[0m\u001b[0;34m:\u001b[0m\u001b[0;34m\u001b[0m\u001b[0m\n\u001b[1;32m      5\u001b[0m         \u001b[0mprint\u001b[0m\u001b[0;34m(\u001b[0m\u001b[0mi\u001b[0m\u001b[0;34m)\u001b[0m\u001b[0;34m\u001b[0m\u001b[0m\n\u001b[0;32m----> 6\u001b[0;31m         \u001b[0mdict_eb_0\u001b[0m\u001b[0;34m=\u001b[0m\u001b[0mall_for_the_source\u001b[0m\u001b[0;34m(\u001b[0m\u001b[0mi\u001b[0m\u001b[0;34m,\u001b[0m \u001b[0m_adl\u001b[0m\u001b[0;34m,\u001b[0m \u001b[0mdict_eb_0\u001b[0m\u001b[0;34m)\u001b[0m\u001b[0;34m\u001b[0m\u001b[0m\n\u001b[0m\u001b[1;32m      7\u001b[0m     \u001b[0;32mreturn\u001b[0m \u001b[0mdict_eb_0\u001b[0m\u001b[0;34m\u001b[0m\u001b[0m\n",
      "\u001b[0;32m<ipython-input-157-ac088a807939>\u001b[0m in \u001b[0;36mall_for_the_source\u001b[0;34m(source, _ald, dict_eb)\u001b[0m\n\u001b[1;32m      7\u001b[0m         \u001b[0;31m#print(counter)\u001b[0m\u001b[0;34m\u001b[0m\u001b[0;34m\u001b[0m\u001b[0m\n\u001b[1;32m      8\u001b[0m         \u001b[0;31m#print(new_leaves)\u001b[0m\u001b[0;34m\u001b[0m\u001b[0;34m\u001b[0m\u001b[0m\n\u001b[0;32m----> 9\u001b[0;31m         \u001b[0mdict_eb\u001b[0m\u001b[0;34m,\u001b[0m \u001b[0mnew_new_leaves\u001b[0m\u001b[0;34m=\u001b[0m\u001b[0mnew_to_me_2\u001b[0m\u001b[0;34m(\u001b[0m\u001b[0mnew_leaves\u001b[0m\u001b[0;34m,\u001b[0m \u001b[0mleaves\u001b[0m\u001b[0;34m,\u001b[0m \u001b[0mdict_eb\u001b[0m\u001b[0;34m,\u001b[0m \u001b[0m_dist\u001b[0m\u001b[0;34m)\u001b[0m\u001b[0;34m\u001b[0m\u001b[0m\n\u001b[0m\u001b[1;32m     10\u001b[0m         \u001b[0mleaves\u001b[0m\u001b[0;34m=\u001b[0m\u001b[0mnp\u001b[0m\u001b[0;34m.\u001b[0m\u001b[0munique\u001b[0m\u001b[0;34m(\u001b[0m\u001b[0mnp\u001b[0m\u001b[0;34m.\u001b[0m\u001b[0mconcatenate\u001b[0m\u001b[0;34m(\u001b[0m\u001b[0;34m(\u001b[0m\u001b[0mleaves\u001b[0m\u001b[0;34m,\u001b[0m \u001b[0mnew_leaves\u001b[0m\u001b[0;34m)\u001b[0m\u001b[0;34m)\u001b[0m\u001b[0;34m)\u001b[0m\u001b[0;34m\u001b[0m\u001b[0m\n\u001b[1;32m     11\u001b[0m         \u001b[0mnew_leaves\u001b[0m\u001b[0;34m=\u001b[0m\u001b[0mnew_new_leaves\u001b[0m\u001b[0;34m\u001b[0m\u001b[0m\n",
      "\u001b[0;32m<ipython-input-145-8fa293d67d7e>\u001b[0m in \u001b[0;36mnew_to_me_2\u001b[0;34m(new_leaves, old_leaves, dict_eb, dist)\u001b[0m\n\u001b[1;32m      1\u001b[0m \u001b[0;32mdef\u001b[0m \u001b[0mnew_to_me_2\u001b[0m\u001b[0;34m(\u001b[0m\u001b[0mnew_leaves\u001b[0m\u001b[0;34m,\u001b[0m \u001b[0mold_leaves\u001b[0m\u001b[0;34m,\u001b[0m \u001b[0mdict_eb\u001b[0m\u001b[0;34m,\u001b[0m \u001b[0mdist\u001b[0m\u001b[0;34m=\u001b[0m\u001b[0mdist\u001b[0m\u001b[0;34m)\u001b[0m\u001b[0;34m:\u001b[0m\u001b[0;34m\u001b[0m\u001b[0m\n\u001b[1;32m      2\u001b[0m     \u001b[0;32mfor\u001b[0m \u001b[0mi_l\u001b[0m\u001b[0;34m,\u001b[0m \u001b[0ml\u001b[0m \u001b[0;32min\u001b[0m \u001b[0menumerate\u001b[0m\u001b[0;34m(\u001b[0m\u001b[0mnew_leaves\u001b[0m\u001b[0;34m)\u001b[0m\u001b[0;34m:\u001b[0m\u001b[0;34m\u001b[0m\u001b[0m\n\u001b[0;32m----> 3\u001b[0;31m         \u001b[0md_l\u001b[0m\u001b[0;34m=\u001b[0m\u001b[0mdist\u001b[0m\u001b[0;34m[\u001b[0m\u001b[0ml\u001b[0m\u001b[0;34m]\u001b[0m\u001b[0;34m\u001b[0m\u001b[0m\n\u001b[0m\u001b[1;32m      4\u001b[0m \u001b[0;34m\u001b[0m\u001b[0m\n\u001b[1;32m      5\u001b[0m         \u001b[0ml_nn\u001b[0m\u001b[0;34m=\u001b[0m\u001b[0mff_ald\u001b[0m\u001b[0;34m[\u001b[0m\u001b[0ml\u001b[0m\u001b[0;34m]\u001b[0m\u001b[0;34m\u001b[0m\u001b[0m\n",
      "\u001b[0;31mIndexError\u001b[0m: only integers, slices (`:`), ellipsis (`...`), numpy.newaxis (`None`) and integer or boolean arrays are valid indices"
     ]
    }
   ],
   "source": [
    "fabio_betweenness(ff_ald)"
   ]
  },
  {
   "cell_type": "code",
   "execution_count": 162,
   "metadata": {
    "ExecuteTime": {
     "end_time": "2019-12-13T08:49:48.383834Z",
     "start_time": "2019-12-13T08:49:48.380982Z"
    }
   },
   "outputs": [
    {
     "data": {
      "text/plain": [
       "'GUADAGNI'"
      ]
     },
     "execution_count": 162,
     "metadata": {},
     "output_type": "execute_result"
    }
   ],
   "source": [
    "source=6\n",
    "ff_fam[source]"
   ]
  },
  {
   "cell_type": "code",
   "execution_count": 163,
   "metadata": {
    "ExecuteTime": {
     "end_time": "2019-12-13T08:51:04.017296Z",
     "start_time": "2019-12-13T08:51:04.014993Z"
    }
   },
   "outputs": [],
   "source": [
    "dict_eb={}"
   ]
  },
  {
   "cell_type": "code",
   "execution_count": 164,
   "metadata": {
    "ExecuteTime": {
     "end_time": "2019-12-13T08:51:04.343984Z",
     "start_time": "2019-12-13T08:51:04.341020Z"
    }
   },
   "outputs": [],
   "source": [
    "_dist, _wei=MEJ_bf_dist_w_2(source, _ald)\n",
    "leaves=find_leaves_2(_ald, _dist)\n",
    "dict_eb, new_leaves=new_to_me_2(leaves, np.array([]), dict_eb, _dist)"
   ]
  },
  {
   "cell_type": "markdown",
   "metadata": {},
   "source": [
    "![cacca](../Images/ff_network.png)"
   ]
  },
  {
   "cell_type": "code",
   "execution_count": 165,
   "metadata": {
    "ExecuteTime": {
     "end_time": "2019-12-13T08:51:09.811868Z",
     "start_time": "2019-12-13T08:51:09.808773Z"
    }
   },
   "outputs": [
    {
     "data": {
      "text/plain": [
       "{('ACCIAIUOL', 'MEDICI'): 1.0,\n",
       " ('BARBADORI', 'MEDICI'): 2.0,\n",
       " ('CASTELLAN', 'PERUZZI'): 1.0,\n",
       " ('CASTELLAN', 'STROZZI'): 1.0,\n",
       " ('ALBIZZI', 'GINORI'): 1.0,\n",
       " ('GUADAGNI', 'LAMBERTES'): 1.0,\n",
       " ('PAZZI', 'SALVIATI'): 1.0,\n",
       " ('RIDOLFI', 'TORNABUON'): 2.0}"
      ]
     },
     "execution_count": 165,
     "metadata": {},
     "output_type": "execute_result"
    }
   ],
   "source": [
    "dict_eb"
   ]
  },
  {
   "cell_type": "code",
   "execution_count": 172,
   "metadata": {
    "ExecuteTime": {
     "end_time": "2019-12-13T08:53:52.464519Z",
     "start_time": "2019-12-13T08:53:52.461357Z"
    }
   },
   "outputs": [
    {
     "data": {
      "text/plain": [
       "1"
      ]
     },
     "execution_count": 172,
     "metadata": {},
     "output_type": "execute_result"
    }
   ],
   "source": [
    "_dist[np.where(ff_fam=='ALBIZZI')[0][0]]"
   ]
  },
  {
   "cell_type": "code",
   "execution_count": null,
   "metadata": {},
   "outputs": [],
   "source": [
    "_dist[np.where(ff_fam=='GINORI')[0][0]]"
   ]
  },
  {
   "cell_type": "code",
   "execution_count": 256,
   "metadata": {
    "ExecuteTime": {
     "end_time": "2019-12-13T15:04:34.562675Z",
     "start_time": "2019-12-13T15:04:34.543392Z"
    }
   },
   "outputs": [],
   "source": [
    "class f_eb:\n",
    "    \n",
    "    def __init__(self, _adl, node_names):\n",
    "        #initialisation\n",
    "        self.node_names=node_names\n",
    "        self._adl=_adl\n",
    "        self.l_nodes=len(_adl)\n",
    "        \n",
    "    def betweenness(self):\n",
    "        self.dict_eb={}\n",
    "        for i in range(self.l_nodes):\n",
    "            print(self.node_names[i])\n",
    "            self.all_for_the_source(i)\n",
    "            _keys=list(self.dict_eb.keys())\n",
    "            for i in list(self.dict_eb_0.keys()):\n",
    "                if i in _keys:\n",
    "                    self.dict_eb[i]+=self.dict_eb_0[i]\n",
    "                else:\n",
    "                    self.dict_eb[i]=self.dict_eb_0[i]\n",
    "        return self.dict_eb\n",
    "    \n",
    "    def all_for_the_source(self, source):\n",
    "        self.dict_eb_0={}\n",
    "        self._dist, self._wei=self.MEJ_bf_dist_w_2(source)\n",
    "        self.leaves=self.find_leaves_2()\n",
    "        print(self.node_names[self.leaves])\n",
    "        new_leaves=self.new_to_me_2(self.leaves, np.array([]))\n",
    "        while new_leaves.size>0:\n",
    "            print(self.node_names[new_leaves])\n",
    "            new_new_leaves=self.new_to_me_2(new_leaves, self.leaves)\n",
    "            leaves=np.unique(np.concatenate((self.leaves, new_leaves)))\n",
    "            new_leaves=new_new_leaves\n",
    "        \n",
    "    # this should be revised. At the end of the day I am just interested in those nodes whose \n",
    "    # distance is lower than the preceeding nodes (but for the case of leaves).\n",
    "    # in that case there is no nedd to update the dictionary, but just to create the entry...\n",
    "    \n",
    "    def new_to_me_2(self, new_leaves, old_leaves):\n",
    "        #print(new_leaves)\n",
    "        \n",
    "        for i_l, l in enumerate(new_leaves):\n",
    "            d_l=self._dist[l]\n",
    "            if i_l==0:\n",
    "                max_d=d_l\n",
    "            elif d_l>max_d:\n",
    "                max_d=d_l\n",
    "    \n",
    "            l_nn=self._adl[l]\n",
    "\n",
    "            smaller_l_nn=[]\n",
    "            greater_l_nn=[]\n",
    "            for n in l_nn:\n",
    "                if dist[n]<d_l:\n",
    "                    smaller_l_nn.append(n)\n",
    "                elif dist[n]>d_l and n in old_leaves:\n",
    "                    greater_l_nn.append(n)\n",
    "            \n",
    "            # for the equal distance ones there is no path!            \n",
    "            \n",
    "            next_ones_contribution=0\n",
    "            for g in greater_l_nn:\n",
    "                if g<l:\n",
    "                    next_ones_contribution+=self.dict_eb_0[(self.node_names[g], self.node_names[l])]\n",
    "                else:\n",
    "                    next_ones_contribution+=self.dict_eb_0[(self.node_names[l], self.node_names[g])]\n",
    "    \n",
    "            for nn in smaller_l_nn:\n",
    "            \n",
    "                if nn<l:\n",
    "                    if (self.node_names[nn], self.node_names[l]) not in list(self.dict_eb_0.keys()):\n",
    "                        self.dict_eb_0[(self.node_names[nn], self.node_names[l])]=self._wei[nn]/self._wei[l]*(1+next_ones_contribution)\n",
    "                    else:\n",
    "                        self.dict_eb_0[(self.node_names[nn], self.node_names[l])]+=self._wei[nn]/self._wei[l]*(1+next_ones_contribution)\n",
    "                else:\n",
    "                    if (self.node_names[l], self.node_names[nn]) not in list(self.dict_eb.keys()):\n",
    "                        self.dict_eb_0[(self.node_names[l], self.node_names[nn])]=self._wei[nn]/self._wei[l]*(1+next_ones_contribution)\n",
    "                    else:\n",
    "                        self.dict_eb_0[(self.node_names[l], self.node_names[nn])]+=self._wei[nn]/self._wei[l]*(1+next_ones_contribution)\n",
    "        \n",
    "        #numpy\n",
    "        #new_new_leaves=np.where(self._dist==max_d-1)[0]\n",
    "        #new_new_leaves=new_new_leaves[np.isin(new_new_leaves, self.leaves,invert=True)]\n",
    "        \n",
    "        #python\n",
    "        new_new_leaves=[]\n",
    "        for i_ddd, ddd in enumerate(self._dist):\n",
    "            if i_ddd not in self.leaves and ddd==max_d-1:\n",
    "                new_new_leaves.append(i_ddd)\n",
    "        new_new_leaves=np.array(new_new_leaves, dtype='i8')\n",
    "            \n",
    "        \n",
    "            \n",
    "        return new_new_leaves \n",
    "    \n",
    "    def find_leaves_2(self):    \n",
    "        leaves=[]\n",
    "        for i in range(len(self._adl)):\n",
    "            dd=self._dist[i]\n",
    "            nn=self._adl[i]\n",
    "            counter=0\n",
    "            for n in nn:\n",
    "                if self._dist[n]<=dd:\n",
    "                    counter+=1\n",
    "            if counter==len(nn):\n",
    "                leaves.append(i)\n",
    "        return leaves\n",
    "    \n",
    "    \n",
    "    def MEJ_bf_dist_w_2(self, source):\n",
    "\n",
    "        _distance=-1*np.ones(self.l_nodes, dtype='i8')\n",
    "        _weights=np.zeros(self.l_nodes, dtype='i8')\n",
    "        d=0\n",
    "        _distance[source]=d\n",
    "        _weights[source]=1\n",
    "        queue=np.zeros(self.l_nodes, dtype='i8')\n",
    "        read_c=0\n",
    "        write_c=1\n",
    "        queue[read_c]=source\n",
    "        l_nn=self.l_nodes\n",
    "        while read_c!=write_c:\n",
    "            _source=queue[read_c]\n",
    "            _d=_distance[_source]\n",
    "            _w=_weights[_source]\n",
    "        \n",
    "            _nn=self._adl[_source]\n",
    "        \n",
    "            for n in _nn:\n",
    "                if _distance[n]==-1:\n",
    "                    _distance[n]=_d+1\n",
    "                    _weights[n]=_w\n",
    "                    queue[write_c]=n\n",
    "                    write_c+=1\n",
    "                elif _distance[n]==_d+1: \n",
    "                    _weights[n]+=_w\n",
    "            read_c+=1\n",
    "        return _distance, _weights\n",
    "    "
   ]
  },
  {
   "cell_type": "code",
   "execution_count": 257,
   "metadata": {
    "ExecuteTime": {
     "end_time": "2019-12-13T15:04:35.419549Z",
     "start_time": "2019-12-13T15:04:35.417464Z"
    }
   },
   "outputs": [],
   "source": [
    "cacca=f_eb(ff_ald, ff_fam)"
   ]
  },
  {
   "cell_type": "code",
   "execution_count": 258,
   "metadata": {
    "ExecuteTime": {
     "end_time": "2019-12-13T15:04:36.355173Z",
     "start_time": "2019-12-13T15:04:36.343228Z"
    }
   },
   "outputs": [
    {
     "name": "stdout",
     "output_type": "stream",
     "text": [
      "ACCIAIUOL\n",
      "['BISCHERI' 'GINORI' 'LAMBERTES' 'PAZZI' 'PERUZZI']\n",
      "['CASTELLAN' 'GUADAGNI' 'STROZZI']\n",
      "['ALBIZZI' 'BARBADORI' 'RIDOLFI' 'SALVIATI' 'TORNABUON']\n"
     ]
    },
    {
     "ename": "KeyError",
     "evalue": "('ALBIZZI', 'GINORI')",
     "output_type": "error",
     "traceback": [
      "\u001b[0;31m---------------------------------------------------------------------------\u001b[0m",
      "\u001b[0;31mKeyError\u001b[0m                                  Traceback (most recent call last)",
      "\u001b[0;32m<ipython-input-258-5a537b68b328>\u001b[0m in \u001b[0;36m<module>\u001b[0;34m\u001b[0m\n\u001b[0;32m----> 1\u001b[0;31m \u001b[0mcacca\u001b[0m\u001b[0;34m.\u001b[0m\u001b[0mbetweenness\u001b[0m\u001b[0;34m(\u001b[0m\u001b[0;34m)\u001b[0m\u001b[0;34m\u001b[0m\u001b[0m\n\u001b[0m",
      "\u001b[0;32m<ipython-input-256-49db21fa0f45>\u001b[0m in \u001b[0;36mbetweenness\u001b[0;34m(self)\u001b[0m\n\u001b[1;32m     11\u001b[0m         \u001b[0;32mfor\u001b[0m \u001b[0mi\u001b[0m \u001b[0;32min\u001b[0m \u001b[0mrange\u001b[0m\u001b[0;34m(\u001b[0m\u001b[0mself\u001b[0m\u001b[0;34m.\u001b[0m\u001b[0ml_nodes\u001b[0m\u001b[0;34m)\u001b[0m\u001b[0;34m:\u001b[0m\u001b[0;34m\u001b[0m\u001b[0m\n\u001b[1;32m     12\u001b[0m             \u001b[0mprint\u001b[0m\u001b[0;34m(\u001b[0m\u001b[0mself\u001b[0m\u001b[0;34m.\u001b[0m\u001b[0mnode_names\u001b[0m\u001b[0;34m[\u001b[0m\u001b[0mi\u001b[0m\u001b[0;34m]\u001b[0m\u001b[0;34m)\u001b[0m\u001b[0;34m\u001b[0m\u001b[0m\n\u001b[0;32m---> 13\u001b[0;31m             \u001b[0mself\u001b[0m\u001b[0;34m.\u001b[0m\u001b[0mall_for_the_source\u001b[0m\u001b[0;34m(\u001b[0m\u001b[0mi\u001b[0m\u001b[0;34m)\u001b[0m\u001b[0;34m\u001b[0m\u001b[0m\n\u001b[0m\u001b[1;32m     14\u001b[0m             \u001b[0;32mfor\u001b[0m \u001b[0mi\u001b[0m \u001b[0;32min\u001b[0m \u001b[0mlist\u001b[0m\u001b[0;34m(\u001b[0m\u001b[0mself\u001b[0m\u001b[0;34m.\u001b[0m\u001b[0mdict_eb_0\u001b[0m\u001b[0;34m.\u001b[0m\u001b[0mkeys\u001b[0m\u001b[0;34m(\u001b[0m\u001b[0;34m)\u001b[0m\u001b[0;34m)\u001b[0m\u001b[0;34m:\u001b[0m\u001b[0;34m\u001b[0m\u001b[0m\n\u001b[1;32m     15\u001b[0m                 \u001b[0;32mif\u001b[0m \u001b[0mi\u001b[0m \u001b[0;32min\u001b[0m \u001b[0mlist\u001b[0m\u001b[0;34m(\u001b[0m\u001b[0mself\u001b[0m\u001b[0;34m.\u001b[0m\u001b[0mdict_eb\u001b[0m\u001b[0;34m.\u001b[0m\u001b[0mkeys\u001b[0m\u001b[0;34m(\u001b[0m\u001b[0;34m)\u001b[0m\u001b[0;34m)\u001b[0m\u001b[0;34m:\u001b[0m\u001b[0;34m\u001b[0m\u001b[0m\n",
      "\u001b[0;32m<ipython-input-256-49db21fa0f45>\u001b[0m in \u001b[0;36mall_for_the_source\u001b[0;34m(self, source)\u001b[0m\n\u001b[1;32m     27\u001b[0m         \u001b[0;32mwhile\u001b[0m \u001b[0mnew_leaves\u001b[0m\u001b[0;34m.\u001b[0m\u001b[0msize\u001b[0m\u001b[0;34m>\u001b[0m\u001b[0;36m0\u001b[0m\u001b[0;34m:\u001b[0m\u001b[0;34m\u001b[0m\u001b[0m\n\u001b[1;32m     28\u001b[0m             \u001b[0mprint\u001b[0m\u001b[0;34m(\u001b[0m\u001b[0mself\u001b[0m\u001b[0;34m.\u001b[0m\u001b[0mnode_names\u001b[0m\u001b[0;34m[\u001b[0m\u001b[0mnew_leaves\u001b[0m\u001b[0;34m]\u001b[0m\u001b[0;34m)\u001b[0m\u001b[0;34m\u001b[0m\u001b[0m\n\u001b[0;32m---> 29\u001b[0;31m             \u001b[0mnew_new_leaves\u001b[0m\u001b[0;34m=\u001b[0m\u001b[0mself\u001b[0m\u001b[0;34m.\u001b[0m\u001b[0mnew_to_me_2\u001b[0m\u001b[0;34m(\u001b[0m\u001b[0mnew_leaves\u001b[0m\u001b[0;34m,\u001b[0m \u001b[0mself\u001b[0m\u001b[0;34m.\u001b[0m\u001b[0mleaves\u001b[0m\u001b[0;34m)\u001b[0m\u001b[0;34m\u001b[0m\u001b[0m\n\u001b[0m\u001b[1;32m     30\u001b[0m             \u001b[0mleaves\u001b[0m\u001b[0;34m=\u001b[0m\u001b[0mnp\u001b[0m\u001b[0;34m.\u001b[0m\u001b[0munique\u001b[0m\u001b[0;34m(\u001b[0m\u001b[0mnp\u001b[0m\u001b[0;34m.\u001b[0m\u001b[0mconcatenate\u001b[0m\u001b[0;34m(\u001b[0m\u001b[0;34m(\u001b[0m\u001b[0mself\u001b[0m\u001b[0;34m.\u001b[0m\u001b[0mleaves\u001b[0m\u001b[0;34m,\u001b[0m \u001b[0mnew_leaves\u001b[0m\u001b[0;34m)\u001b[0m\u001b[0;34m)\u001b[0m\u001b[0;34m)\u001b[0m\u001b[0;34m\u001b[0m\u001b[0m\n\u001b[1;32m     31\u001b[0m             \u001b[0mnew_leaves\u001b[0m\u001b[0;34m=\u001b[0m\u001b[0mnew_new_leaves\u001b[0m\u001b[0;34m\u001b[0m\u001b[0m\n",
      "\u001b[0;32m<ipython-input-256-49db21fa0f45>\u001b[0m in \u001b[0;36mnew_to_me_2\u001b[0;34m(self, new_leaves, old_leaves)\u001b[0m\n\u001b[1;32m     62\u001b[0m                     \u001b[0mnext_ones_contribution\u001b[0m\u001b[0;34m+=\u001b[0m\u001b[0mself\u001b[0m\u001b[0;34m.\u001b[0m\u001b[0mdict_eb_0\u001b[0m\u001b[0;34m[\u001b[0m\u001b[0;34m(\u001b[0m\u001b[0mself\u001b[0m\u001b[0;34m.\u001b[0m\u001b[0mnode_names\u001b[0m\u001b[0;34m[\u001b[0m\u001b[0mg\u001b[0m\u001b[0;34m]\u001b[0m\u001b[0;34m,\u001b[0m \u001b[0mself\u001b[0m\u001b[0;34m.\u001b[0m\u001b[0mnode_names\u001b[0m\u001b[0;34m[\u001b[0m\u001b[0ml\u001b[0m\u001b[0;34m]\u001b[0m\u001b[0;34m)\u001b[0m\u001b[0;34m]\u001b[0m\u001b[0;34m\u001b[0m\u001b[0m\n\u001b[1;32m     63\u001b[0m                 \u001b[0;32melse\u001b[0m\u001b[0;34m:\u001b[0m\u001b[0;34m\u001b[0m\u001b[0m\n\u001b[0;32m---> 64\u001b[0;31m                     \u001b[0mnext_ones_contribution\u001b[0m\u001b[0;34m+=\u001b[0m\u001b[0mself\u001b[0m\u001b[0;34m.\u001b[0m\u001b[0mdict_eb_0\u001b[0m\u001b[0;34m[\u001b[0m\u001b[0;34m(\u001b[0m\u001b[0mself\u001b[0m\u001b[0;34m.\u001b[0m\u001b[0mnode_names\u001b[0m\u001b[0;34m[\u001b[0m\u001b[0ml\u001b[0m\u001b[0;34m]\u001b[0m\u001b[0;34m,\u001b[0m \u001b[0mself\u001b[0m\u001b[0;34m.\u001b[0m\u001b[0mnode_names\u001b[0m\u001b[0;34m[\u001b[0m\u001b[0mg\u001b[0m\u001b[0;34m]\u001b[0m\u001b[0;34m)\u001b[0m\u001b[0;34m]\u001b[0m\u001b[0;34m\u001b[0m\u001b[0m\n\u001b[0m\u001b[1;32m     65\u001b[0m \u001b[0;34m\u001b[0m\u001b[0m\n\u001b[1;32m     66\u001b[0m             \u001b[0;32mfor\u001b[0m \u001b[0mnn\u001b[0m \u001b[0;32min\u001b[0m \u001b[0msmaller_l_nn\u001b[0m\u001b[0;34m:\u001b[0m\u001b[0;34m\u001b[0m\u001b[0m\n",
      "\u001b[0;31mKeyError\u001b[0m: ('ALBIZZI', 'GINORI')"
     ]
    }
   ],
   "source": [
    "cacca.betweenness()"
   ]
  },
  {
   "cell_type": "code",
   "execution_count": 218,
   "metadata": {
    "ExecuteTime": {
     "end_time": "2019-12-13T10:08:01.170470Z",
     "start_time": "2019-12-13T10:08:01.167440Z"
    }
   },
   "outputs": [
    {
     "data": {
      "text/plain": [
       "array([1, 1, 1, 1, 1, 1, 1, 1, 1, 1, 1, 1, 1, 2, 2])"
      ]
     },
     "execution_count": 218,
     "metadata": {},
     "output_type": "execute_result"
    }
   ],
   "source": [
    "next_"
   ]
  },
  {
   "cell_type": "code",
   "execution_count": null,
   "metadata": {},
   "outputs": [],
   "source": []
  }
 ],
 "metadata": {
  "kernelspec": {
   "display_name": "Python 3",
   "language": "python",
   "name": "python3"
  },
  "language_info": {
   "codemirror_mode": {
    "name": "ipython",
    "version": 3
   },
   "file_extension": ".py",
   "mimetype": "text/x-python",
   "name": "python",
   "nbconvert_exporter": "python",
   "pygments_lexer": "ipython3",
   "version": "3.6.3"
  },
  "toc": {
   "colors": {
    "hover_highlight": "#DAA520",
    "navigate_num": "#000000",
    "navigate_text": "#333333",
    "running_highlight": "#FF0000",
    "selected_highlight": "#FFD700",
    "sidebar_border": "#EEEEEE",
    "wrapper_background": "#FFFFFF"
   },
   "moveMenuLeft": true,
   "nav_menu": {
    "height": "63.1333px",
    "width": "252px"
   },
   "navigate_menu": true,
   "number_sections": false,
   "sideBar": true,
   "threshold": "6",
   "toc_cell": false,
   "toc_position": {
    "height": "823.3px",
    "left": "0px",
    "right": "1377px",
    "top": "135.7px",
    "width": "212px"
   },
   "toc_section_display": "block",
   "toc_window_display": true,
   "widenNotebook": false
  },
  "varInspector": {
   "cols": {
    "lenName": 16,
    "lenType": 16,
    "lenVar": 40
   },
   "kernels_config": {
    "python": {
     "delete_cmd_postfix": "",
     "delete_cmd_prefix": "del ",
     "library": "var_list.py",
     "varRefreshCmd": "print(var_dic_list())"
    },
    "r": {
     "delete_cmd_postfix": ") ",
     "delete_cmd_prefix": "rm(",
     "library": "var_list.r",
     "varRefreshCmd": "cat(var_dic_list()) "
    }
   },
   "types_to_exclude": [
    "module",
    "function",
    "builtin_function_or_method",
    "instance",
    "_Feature"
   ],
   "window_display": false
  }
 },
 "nbformat": 4,
 "nbformat_minor": 2
}
